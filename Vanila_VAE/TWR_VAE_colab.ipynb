{
  "nbformat": 4,
  "nbformat_minor": 0,
  "metadata": {
    "colab": {
      "provenance": [],
      "collapsed_sections": [],
      "authorship_tag": "ABX9TyO+edNCk8N6lKxuMCv2QKZm",
      "include_colab_link": true
    },
    "kernelspec": {
      "name": "python3",
      "display_name": "Python 3"
    },
    "language_info": {
      "name": "python"
    },
    "accelerator": "GPU",
    "gpuClass": "standard"
  },
  "cells": [
    {
      "cell_type": "markdown",
      "metadata": {
        "id": "view-in-github",
        "colab_type": "text"
      },
      "source": [
        "<a href=\"https://colab.research.google.com/github/Mincheol2/modified-TWR_VAE/blob/main/TWR_VAE_colab.ipynb\" target=\"_parent\"><img src=\"https://colab.research.google.com/assets/colab-badge.svg\" alt=\"Open In Colab\"/></a>"
      ]
    },
    {
      "cell_type": "code",
      "execution_count": 15,
      "metadata": {
        "colab": {
          "base_uri": "https://localhost:8080/"
        },
        "id": "DMtCJR8lnbrn",
        "outputId": "c43d5b6c-100a-4c97-cc41-7b5d855387d7"
      },
      "outputs": [
        {
          "output_type": "stream",
          "name": "stdout",
          "text": [
            "Drive already mounted at /content/drive/; to attempt to forcibly remount, call drive.mount(\"/content/drive/\", force_remount=True).\n"
          ]
        }
      ],
      "source": [
        "from google.colab import drive\n",
        "\n",
        "drive.mount('/content/drive/')"
      ]
    },
    {
      "cell_type": "code",
      "source": [
        "import os\n",
        "import numpy as np\n",
        "import pandas as pd\n",
        "import matplotlib.pyplot as plt\n",
        "import os\n",
        "\n",
        "## PLEASE configure your path! ##\n",
        "PATH = '/content/drive/MyDrive/modified-TWR_VAE' \n",
        "\n",
        "os.chdir(PATH)\n",
        "os.getcwd()"
      ],
      "metadata": {
        "colab": {
          "base_uri": "https://localhost:8080/",
          "height": 36
        },
        "id": "VKGsThyBnfmA",
        "outputId": "91a60d2e-0dd1-49c8-ca8d-77f942b90412"
      },
      "execution_count": 16,
      "outputs": [
        {
          "output_type": "execute_result",
          "data": {
            "text/plain": [
              "'/content/drive/MyDrive/modified-TWR_VAE'"
            ],
            "application/vnd.google.colaboratory.intrinsic+json": {
              "type": "string"
            }
          },
          "metadata": {},
          "execution_count": 16
        }
      ]
    },
    {
      "cell_type": "markdown",
      "source": [
        "# Argument options\n",
        "\n",
        "- dt : Dataset(ptb / yelp / yahoo)\n",
        "\n",
        "- epoch : Learning epoch (Ex. ptb 200 epochs : about 30mins) \n",
        "\n",
        "- alpha : Alpha divergence parameter\n",
        "\n",
        "- beta : Weight for alpha divergence"
      ],
      "metadata": {
        "id": "nZHVJn9OoSj4"
      }
    },
    {
      "cell_type": "code",
      "source": [
        "!python main.py -dt ptb --epoch 10 --alpha 1.0 --beta 1.0 #Default KL Div"
      ],
      "metadata": {
        "colab": {
          "base_uri": "https://localhost:8080/"
        },
        "cellView": "code",
        "id": "gcTlsDoyoK7Z",
        "outputId": "b104fd48-3e97-4900-a278-be9b9c8c88da"
      },
      "execution_count": 17,
      "outputs": [
        {
          "output_type": "stream",
          "name": "stdout",
          "text": [
            "Namespace(alpha=1.0, batch_size=64, beta=1.0, dataset='ptb', dropout=0.5, embedding_size=512, epochs=10, gpu_id='0', hidden_size=256, layers=1, load=False, lr=0.0001, min_word_count=1, model_dir='', no_cuda=False, partial=False, partial_type='last75', rnn_type='lstm', save=True, seed=999, z_type='normal', zdim=32)\n",
            "base_path= .\n",
            "start to load Corpus data\n",
            "start to build dictionary\n",
            "start to make one-hot vectors\n",
            "start to load Corpus data\n",
            "start to build dictionary\n",
            "start to make one-hot vectors\n",
            "start to load Corpus data\n",
            "start to build dictionary\n",
            "start to make one-hot vectors\n",
            "voca_dim=9947\n",
            "/usr/local/lib/python3.7/dist-packages/torch/nn/modules/rnn.py:65: UserWarning: dropout option adds dropout after all but last recurrent layer, so non-zero dropout expects num_layers greater than 1, but got dropout=0.5 and num_layers=1\n",
            "  \"num_layers={}\".format(dropout, num_layers))\n",
            "Encoder(\n",
            "  (embedding): Embedding(9947, 512, padding_idx=0)\n",
            "  (rnn): LSTM(512, 256, dropout=0.5)\n",
            "  (dropout): Dropout(p=0.5, inplace=False)\n",
            "  (linear_mu): Linear(in_features=256, out_features=32, bias=True)\n",
            "  (linear_var): Linear(in_features=256, out_features=32, bias=True)\n",
            ")\n",
            "Decoder(\n",
            "  (embedding): Embedding(9947, 512, padding_idx=0)\n",
            "  (rnn): LSTM(544, 256, dropout=0.5)\n",
            "  (z2h_c): Linear(in_features=32, out_features=256, bias=False)\n",
            "  (out): Linear(in_features=256, out_features=9947, bias=True)\n",
            "  (dropout): Dropout(p=0.5, inplace=False)\n",
            ")\n",
            "Current alpha : 1.0\n",
            "Current beta : 1.0\n",
            "  0% 0/10 [00:00<?, ?it/s]----------------TRAIN-----------------\n",
            "Train 1: recon_loss=144.2803, div_loss=0.0212, nll_loss=144.3014, nll_loss_perword=6.1418, ppl=464.9084, acc=0.1174\n",
            "Test: recon_loss:139.5191, kl_loss:0.0674, nll_loss:139.5865, nll_loss_perword:5.9857, ppl:397.6877\n",
            " 10% 1/10 [00:14<02:11, 14.64s/it]----------------TRAIN-----------------\n",
            "Train 2: recon_loss=135.0863, div_loss=0.0335, nll_loss=135.1199, nll_loss_perword=5.7511, ppl=314.5209, acc=0.1522\n",
            "Test: recon_loss:135.2214, kl_loss:0.0744, nll_loss:135.2958, nll_loss_perword:5.8017, ppl:330.8531\n",
            " 20% 2/10 [00:28<01:55, 14.38s/it]----------------TRAIN-----------------\n",
            "Train 3: recon_loss=131.0745, div_loss=0.0385, nll_loss=131.1129, nll_loss_perword=5.5805, ppl=265.2052, acc=0.1704\n",
            "Test: recon_loss:132.5298, kl_loss:0.0712, nll_loss:132.6009, nll_loss_perword:5.6861, ppl:294.7466\n",
            " 30% 3/10 [00:43<01:40, 14.30s/it]----------------TRAIN-----------------\n",
            "Train 4: recon_loss=127.7483, div_loss=0.0387, nll_loss=127.7870, nll_loss_perword=5.4389, ppl=230.1989, acc=0.1847\n",
            "Test: recon_loss:130.5226, kl_loss:0.0674, nll_loss:130.5900, nll_loss_perword:5.5999, ppl:270.3952\n",
            " 40% 4/10 [00:57<01:25, 14.31s/it]----------------TRAIN-----------------\n",
            "Train 5: recon_loss=125.2560, div_loss=0.0361, nll_loss=125.2921, nll_loss_perword=5.3328, ppl=207.0071, acc=0.1941\n",
            "Test: recon_loss:128.6246, kl_loss:0.0610, nll_loss:128.6856, nll_loss_perword:5.5182, ppl:249.1910\n",
            " 50% 5/10 [01:11<01:11, 14.36s/it]----------------TRAIN-----------------\n",
            "Train 6: recon_loss=122.7104, div_loss=0.0320, nll_loss=122.7424, nll_loss_perword=5.2242, ppl=185.7188, acc=0.2060\n",
            "Test: recon_loss:126.5970, kl_loss:0.0516, nll_loss:126.6486, nll_loss_perword:5.4309, ppl:228.3477\n",
            " 60% 6/10 [01:26<00:57, 14.40s/it]----------------TRAIN-----------------\n",
            "Train 7: recon_loss=120.2923, div_loss=0.0299, nll_loss=120.3222, nll_loss_perword=5.1212, ppl=167.5405, acc=0.2180\n",
            "Test: recon_loss:125.1612, kl_loss:0.0476, nll_loss:125.2088, nll_loss_perword:5.3691, ppl:214.6760\n",
            " 70% 7/10 [01:40<00:43, 14.45s/it]----------------TRAIN-----------------\n",
            "Train 8: recon_loss=118.2229, div_loss=0.0294, nll_loss=118.2523, nll_loss_perword=5.0331, ppl=153.4115, acc=0.2280\n",
            "Test: recon_loss:123.6318, kl_loss:0.0455, nll_loss:123.6773, nll_loss_perword:5.3035, ppl:201.0306\n",
            " 80% 8/10 [01:55<00:29, 14.52s/it]----------------TRAIN-----------------\n",
            "Train 9: recon_loss=116.2700, div_loss=0.0284, nll_loss=116.2984, nll_loss_perword=4.9500, ppl=141.1690, acc=0.2370\n",
            "Test: recon_loss:122.1433, kl_loss:0.0422, nll_loss:122.1855, nll_loss_perword:5.2395, ppl:188.5731\n",
            " 90% 9/10 [02:10<00:14, 14.58s/it]----------------TRAIN-----------------\n",
            "Train 10: recon_loss=114.3684, div_loss=0.0276, nll_loss=114.3960, nll_loss_perword=4.8690, ppl=130.1892, acc=0.2466\n",
            "Test: recon_loss:120.7369, kl_loss:0.0404, nll_loss:120.7773, nll_loss_perword:5.1791, ppl:177.5231\n",
            "100% 10/10 [02:24<00:00, 14.50s/it]\n"
          ]
        }
      ]
    },
    {
      "cell_type": "markdown",
      "source": [
        "# Visualization\n",
        "\n",
        "The generated folder name contains dataset name, alpha, and beta. Put your parameters below, and visualize it."
      ],
      "metadata": {
        "id": "-sg1CtJUoyy4"
      }
    },
    {
      "cell_type": "code",
      "source": [
        "dataset = 'ptb'\n",
        "alpha = 1.0\n",
        "beta = 1.0\n",
        "start_epoch = 1\n",
        "end_epoch = 50 "
      ],
      "metadata": {
        "id": "zTpTF676qOvZ"
      },
      "execution_count": 20,
      "outputs": []
    },
    {
      "cell_type": "code",
      "source": [
        "result = pd.read_csv(f'{dataset}_recon_save_alpha' + str(alpha) + '_beta' + str(beta) +'/test_TWRvae_loss.txt',sep='\\t')\n",
        "result.columns=['ep', 'recon_loss', 'div_loss', 'NLL', 'PPL'] \n",
        "\n",
        "result"
      ],
      "metadata": {
        "colab": {
          "base_uri": "https://localhost:8080/",
          "height": 363
        },
        "id": "3oBWVxLHxy08",
        "outputId": "bc0046ef-43fd-4635-f742-26fa971d0160"
      },
      "execution_count": 22,
      "outputs": [
        {
          "output_type": "execute_result",
          "data": {
            "text/plain": [
              "   ep  recon_loss  div_loss         NLL         PPL\n",
              "0   1  139.519130  0.067387  139.586517  397.687659\n",
              "1   2  135.221386  0.074404  135.295790  330.853115\n",
              "2   3  132.529789  0.071159  132.600948  294.746566\n",
              "3   4  130.522596  0.067431  130.590026  270.395234\n",
              "4   5  128.624608  0.060978  128.685585  249.190984\n",
              "5   6  126.597023  0.051551  126.648574  228.347748\n",
              "6   7  125.161177  0.047617  125.208794  214.675994\n",
              "7   8  123.631813  0.045483  123.677296  201.030591\n",
              "8   9  122.143297  0.042181  122.185478  188.573120\n",
              "9  10  120.736888  0.040408  120.777297  177.523148"
            ],
            "text/html": [
              "\n",
              "  <div id=\"df-49258fac-b720-4d9b-aa1c-49c1a326a2c6\">\n",
              "    <div class=\"colab-df-container\">\n",
              "      <div>\n",
              "<style scoped>\n",
              "    .dataframe tbody tr th:only-of-type {\n",
              "        vertical-align: middle;\n",
              "    }\n",
              "\n",
              "    .dataframe tbody tr th {\n",
              "        vertical-align: top;\n",
              "    }\n",
              "\n",
              "    .dataframe thead th {\n",
              "        text-align: right;\n",
              "    }\n",
              "</style>\n",
              "<table border=\"1\" class=\"dataframe\">\n",
              "  <thead>\n",
              "    <tr style=\"text-align: right;\">\n",
              "      <th></th>\n",
              "      <th>ep</th>\n",
              "      <th>recon_loss</th>\n",
              "      <th>div_loss</th>\n",
              "      <th>NLL</th>\n",
              "      <th>PPL</th>\n",
              "    </tr>\n",
              "  </thead>\n",
              "  <tbody>\n",
              "    <tr>\n",
              "      <th>0</th>\n",
              "      <td>1</td>\n",
              "      <td>139.519130</td>\n",
              "      <td>0.067387</td>\n",
              "      <td>139.586517</td>\n",
              "      <td>397.687659</td>\n",
              "    </tr>\n",
              "    <tr>\n",
              "      <th>1</th>\n",
              "      <td>2</td>\n",
              "      <td>135.221386</td>\n",
              "      <td>0.074404</td>\n",
              "      <td>135.295790</td>\n",
              "      <td>330.853115</td>\n",
              "    </tr>\n",
              "    <tr>\n",
              "      <th>2</th>\n",
              "      <td>3</td>\n",
              "      <td>132.529789</td>\n",
              "      <td>0.071159</td>\n",
              "      <td>132.600948</td>\n",
              "      <td>294.746566</td>\n",
              "    </tr>\n",
              "    <tr>\n",
              "      <th>3</th>\n",
              "      <td>4</td>\n",
              "      <td>130.522596</td>\n",
              "      <td>0.067431</td>\n",
              "      <td>130.590026</td>\n",
              "      <td>270.395234</td>\n",
              "    </tr>\n",
              "    <tr>\n",
              "      <th>4</th>\n",
              "      <td>5</td>\n",
              "      <td>128.624608</td>\n",
              "      <td>0.060978</td>\n",
              "      <td>128.685585</td>\n",
              "      <td>249.190984</td>\n",
              "    </tr>\n",
              "    <tr>\n",
              "      <th>5</th>\n",
              "      <td>6</td>\n",
              "      <td>126.597023</td>\n",
              "      <td>0.051551</td>\n",
              "      <td>126.648574</td>\n",
              "      <td>228.347748</td>\n",
              "    </tr>\n",
              "    <tr>\n",
              "      <th>6</th>\n",
              "      <td>7</td>\n",
              "      <td>125.161177</td>\n",
              "      <td>0.047617</td>\n",
              "      <td>125.208794</td>\n",
              "      <td>214.675994</td>\n",
              "    </tr>\n",
              "    <tr>\n",
              "      <th>7</th>\n",
              "      <td>8</td>\n",
              "      <td>123.631813</td>\n",
              "      <td>0.045483</td>\n",
              "      <td>123.677296</td>\n",
              "      <td>201.030591</td>\n",
              "    </tr>\n",
              "    <tr>\n",
              "      <th>8</th>\n",
              "      <td>9</td>\n",
              "      <td>122.143297</td>\n",
              "      <td>0.042181</td>\n",
              "      <td>122.185478</td>\n",
              "      <td>188.573120</td>\n",
              "    </tr>\n",
              "    <tr>\n",
              "      <th>9</th>\n",
              "      <td>10</td>\n",
              "      <td>120.736888</td>\n",
              "      <td>0.040408</td>\n",
              "      <td>120.777297</td>\n",
              "      <td>177.523148</td>\n",
              "    </tr>\n",
              "  </tbody>\n",
              "</table>\n",
              "</div>\n",
              "      <button class=\"colab-df-convert\" onclick=\"convertToInteractive('df-49258fac-b720-4d9b-aa1c-49c1a326a2c6')\"\n",
              "              title=\"Convert this dataframe to an interactive table.\"\n",
              "              style=\"display:none;\">\n",
              "        \n",
              "  <svg xmlns=\"http://www.w3.org/2000/svg\" height=\"24px\"viewBox=\"0 0 24 24\"\n",
              "       width=\"24px\">\n",
              "    <path d=\"M0 0h24v24H0V0z\" fill=\"none\"/>\n",
              "    <path d=\"M18.56 5.44l.94 2.06.94-2.06 2.06-.94-2.06-.94-.94-2.06-.94 2.06-2.06.94zm-11 1L8.5 8.5l.94-2.06 2.06-.94-2.06-.94L8.5 2.5l-.94 2.06-2.06.94zm10 10l.94 2.06.94-2.06 2.06-.94-2.06-.94-.94-2.06-.94 2.06-2.06.94z\"/><path d=\"M17.41 7.96l-1.37-1.37c-.4-.4-.92-.59-1.43-.59-.52 0-1.04.2-1.43.59L10.3 9.45l-7.72 7.72c-.78.78-.78 2.05 0 2.83L4 21.41c.39.39.9.59 1.41.59.51 0 1.02-.2 1.41-.59l7.78-7.78 2.81-2.81c.8-.78.8-2.07 0-2.86zM5.41 20L4 18.59l7.72-7.72 1.47 1.35L5.41 20z\"/>\n",
              "  </svg>\n",
              "      </button>\n",
              "      \n",
              "  <style>\n",
              "    .colab-df-container {\n",
              "      display:flex;\n",
              "      flex-wrap:wrap;\n",
              "      gap: 12px;\n",
              "    }\n",
              "\n",
              "    .colab-df-convert {\n",
              "      background-color: #E8F0FE;\n",
              "      border: none;\n",
              "      border-radius: 50%;\n",
              "      cursor: pointer;\n",
              "      display: none;\n",
              "      fill: #1967D2;\n",
              "      height: 32px;\n",
              "      padding: 0 0 0 0;\n",
              "      width: 32px;\n",
              "    }\n",
              "\n",
              "    .colab-df-convert:hover {\n",
              "      background-color: #E2EBFA;\n",
              "      box-shadow: 0px 1px 2px rgba(60, 64, 67, 0.3), 0px 1px 3px 1px rgba(60, 64, 67, 0.15);\n",
              "      fill: #174EA6;\n",
              "    }\n",
              "\n",
              "    [theme=dark] .colab-df-convert {\n",
              "      background-color: #3B4455;\n",
              "      fill: #D2E3FC;\n",
              "    }\n",
              "\n",
              "    [theme=dark] .colab-df-convert:hover {\n",
              "      background-color: #434B5C;\n",
              "      box-shadow: 0px 1px 3px 1px rgba(0, 0, 0, 0.15);\n",
              "      filter: drop-shadow(0px 1px 2px rgba(0, 0, 0, 0.3));\n",
              "      fill: #FFFFFF;\n",
              "    }\n",
              "  </style>\n",
              "\n",
              "      <script>\n",
              "        const buttonEl =\n",
              "          document.querySelector('#df-49258fac-b720-4d9b-aa1c-49c1a326a2c6 button.colab-df-convert');\n",
              "        buttonEl.style.display =\n",
              "          google.colab.kernel.accessAllowed ? 'block' : 'none';\n",
              "\n",
              "        async function convertToInteractive(key) {\n",
              "          const element = document.querySelector('#df-49258fac-b720-4d9b-aa1c-49c1a326a2c6');\n",
              "          const dataTable =\n",
              "            await google.colab.kernel.invokeFunction('convertToInteractive',\n",
              "                                                     [key], {});\n",
              "          if (!dataTable) return;\n",
              "\n",
              "          const docLinkHtml = 'Like what you see? Visit the ' +\n",
              "            '<a target=\"_blank\" href=https://colab.research.google.com/notebooks/data_table.ipynb>data table notebook</a>'\n",
              "            + ' to learn more about interactive tables.';\n",
              "          element.innerHTML = '';\n",
              "          dataTable['output_type'] = 'display_data';\n",
              "          await google.colab.output.renderOutput(dataTable, element);\n",
              "          const docLink = document.createElement('div');\n",
              "          docLink.innerHTML = docLinkHtml;\n",
              "          element.appendChild(docLink);\n",
              "        }\n",
              "      </script>\n",
              "    </div>\n",
              "  </div>\n",
              "  "
            ]
          },
          "metadata": {},
          "execution_count": 22
        }
      ]
    },
    {
      "cell_type": "code",
      "source": [
        "plt.plot(result['PPL'].loc[start_epoch:50], label=f'alpha = {alpha}, beta = {beta}')\n",
        "plt.title(f'ptb_default : PPL')\n",
        "plt.xlabel('epochs')\n",
        "plt.ylabel('PPL')\n",
        "plt.legend()\n",
        "plt.show()"
      ],
      "metadata": {
        "colab": {
          "base_uri": "https://localhost:8080/",
          "height": 295
        },
        "id": "R2EtEmv_oxNb",
        "outputId": "15b38650-e94e-40fd-b98b-0e366fa12051"
      },
      "execution_count": 23,
      "outputs": [
        {
          "output_type": "display_data",
          "data": {
            "text/plain": [
              "<Figure size 432x288 with 1 Axes>"
            ],
            "image/png": "[encoded data removed]"
          },
          "metadata": {
            "needs_background": "light"
          }
        }
      ]
    }
  ]
}