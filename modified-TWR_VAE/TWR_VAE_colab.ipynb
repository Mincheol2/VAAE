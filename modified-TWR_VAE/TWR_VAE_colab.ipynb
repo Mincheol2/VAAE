{
  "nbformat": 4,
  "nbformat_minor": 0,
  "metadata": {
    "colab": {
      "provenance": [],
      "authorship_tag": "ABX9TyNLmJWAqZy0DZSmQHsVJiit",
      "include_colab_link": true
    },
    "kernelspec": {
      "name": "python3",
      "display_name": "Python 3"
    },
    "language_info": {
      "name": "python"
    },
    "accelerator": "GPU",
    "gpuClass": "standard"
  },
  "cells": [
    {
      "cell_type": "markdown",
      "metadata": {
        "id": "view-in-github",
        "colab_type": "text"
      },
      "source": [
        "<a href=\"https://colab.research.google.com/github/Mincheol2/VAAE/blob/main/TWR_VAE_colab.ipynb\" target=\"_parent\"><img src=\"https://colab.research.google.com/assets/colab-badge.svg\" alt=\"Open In Colab\"/></a>"
      ]
    },
    {
      "cell_type": "code",
      "execution_count": 1,
      "metadata": {
        "colab": {
          "base_uri": "https://localhost:8080/"
        },
        "id": "DMtCJR8lnbrn",
        "outputId": "312b2113-1e98-4b04-f795-372ac922fd6b"
      },
      "outputs": [
        {
          "output_type": "stream",
          "name": "stdout",
          "text": [
            "Mounted at /content/drive/\n"
          ]
        }
      ],
      "source": [
        "from google.colab import drive\n",
        "\n",
        "drive.mount('/content/drive/')"
      ]
    },
    {
      "cell_type": "code",
      "source": [
        "import os\n",
        "import numpy as np\n",
        "import pandas as pd\n",
        "import matplotlib.pyplot as plt\n",
        "import os\n",
        "\n",
        "## PLEASE configure your path! ##\n",
        "PATH = '/content/drive/MyDrive/VAAE/modified-TWR_VAE' \n",
        "\n",
        "os.chdir(PATH)\n",
        "os.getcwd()"
      ],
      "metadata": {
        "colab": {
          "base_uri": "https://localhost:8080/",
          "height": 36
        },
        "id": "VKGsThyBnfmA",
        "outputId": "8b4660b8-981f-44c8-c273-af376186afbd"
      },
      "execution_count": 3,
      "outputs": [
        {
          "output_type": "execute_result",
          "data": {
            "text/plain": [
              "'/content/drive/MyDrive/VAAE/modified-TWR_VAE'"
            ],
            "application/vnd.google.colaboratory.intrinsic+json": {
              "type": "string"
            }
          },
          "metadata": {},
          "execution_count": 3
        }
      ]
    },
    {
      "cell_type": "markdown",
      "source": [
        "# Argument options\n",
        "\n",
        "- dt : Dataset(ptb / yelp / yahoo)\n",
        "\n",
        "- epoch : Learning epoch (Ex. ptb 200 epochs : about 30mins) \n",
        "\n",
        "- alpha : Alpha divergence parameter\n",
        "\n",
        "- beta : Weight for alpha divergence\n",
        "\n",
        "- df : Gamma divergence paramter $\\quad$ cf) $\\gamma = - \\frac{2}{df + 1}$"
      ],
      "metadata": {
        "id": "nZHVJn9OoSj4"
      }
    },
    {
      "cell_type": "code",
      "source": [
        "!python main.py -dt ptb --epoch 10 --alpha 1.0 --beta 1.0 #Default KL Div"
      ],
      "metadata": {
        "colab": {
          "base_uri": "https://localhost:8080/"
        },
        "cellView": "code",
        "id": "gcTlsDoyoK7Z",
        "outputId": "bea0ca39-0a12-4ab2-dcf4-72ba41869897"
      },
      "execution_count": 6,
      "outputs": [
        {
          "output_type": "stream",
          "name": "stdout",
          "text": [
            "Namespace(alpha=1.0, batch_size=64, beta=1.0, dataset='ptb', df=0.0, dropout=0.5, embedding_size=512, epochs=10, gpu_id='0', hidden_size=256, layers=1, load=False, lr=0.0001, min_word_count=1, model_dir='', no_cuda=False, partial=False, partial_type='last75', prior_logvar=0, prior_mu=0, rnn_type='lstm', save=True, seed=999, z_type='normal', zdim=32)\n",
            "base_path= .\n",
            "start to load Corpus data\n",
            "start to build dictionary\n",
            "start to make one-hot vectors\n",
            "start to load Corpus data\n",
            "start to build dictionary\n",
            "start to make one-hot vectors\n",
            "/usr/local/lib/python3.7/dist-packages/torch/nn/modules/rnn.py:65: UserWarning: dropout option adds dropout after all but last recurrent layer, so non-zero dropout expects num_layers greater than 1, but got dropout=0.5 and num_layers=1\n",
            "  \"num_layers={}\".format(dropout, num_layers))\n",
            "Current alpha : 1.0\n",
            "Current beta : 1.0\n",
            "  0% 0/10 [00:00<?, ?it/s]/content/drive/MyDrive/VAAE/modified-TWR_VAE/loss.py:54: UserWarning: To copy construct from a tensor, it is recommended to use sourceTensor.clone().detach() or sourceTensor.clone().detach().requires_grad_(True), rather than torch.tensor(sourceTensor).\n",
            "  self.post_mu = torch.tensor(post_mu)\n",
            "/content/drive/MyDrive/VAAE/modified-TWR_VAE/loss.py:55: UserWarning: To copy construct from a tensor, it is recommended to use sourceTensor.clone().detach() or sourceTensor.clone().detach().requires_grad_(True), rather than torch.tensor(sourceTensor).\n",
            "  self.post_logvar = torch.tensor(post_logvar)\n",
            "\n",
            "Train 1: recon_loss=144.2963, div_loss=0.0580, nll_loss=144.3542, nll_loss_perword=6.1441, ppl=465.9547, acc=0.1173\n",
            "Test: recon_loss:139.5594, kl_loss:0.1748, nll_loss:139.7342, nll_loss_perword:5.9920, ppl:400.2145\n",
            " 10% 1/10 [00:14<02:12, 14.68s/it]\n",
            "Train 2: recon_loss=135.3141, div_loss=0.1540, nll_loss=135.4681, nll_loss_perword=5.7659, ppl=319.2169, acc=0.1502\n",
            "Test: recon_loss:135.1816, kl_loss:0.2610, nll_loss:135.4426, nll_loss_perword:5.8080, ppl:332.9428\n",
            " 20% 2/10 [00:28<01:54, 14.29s/it]\n",
            "Train 3: recon_loss=131.0205, div_loss=0.2053, nll_loss=131.2258, nll_loss_perword=5.5853, ppl=266.4819, acc=0.1710\n",
            "Test: recon_loss:132.3599, kl_loss:0.2810, nll_loss:132.6409, nll_loss_perword:5.6878, ppl:295.2523\n",
            " 30% 3/10 [00:42<01:39, 14.17s/it]\n",
            "Train 4: recon_loss=127.7960, div_loss=0.2348, nll_loss=128.0307, nll_loss_perword=5.4493, ppl=232.5996, acc=0.1845\n",
            "Test: recon_loss:130.2495, kl_loss:0.2938, nll_loss:130.5433, nll_loss_perword:5.5979, ppl:269.8541\n",
            " 40% 4/10 [00:56<01:24, 14.16s/it]\n",
            "Train 5: recon_loss=125.0886, div_loss=0.2455, nll_loss=125.3341, nll_loss_perword=5.3345, ppl=207.3776, acc=0.1954\n",
            "Test: recon_loss:128.6790, kl_loss:0.3013, nll_loss:128.9804, nll_loss_perword:5.5309, ppl:252.3609\n",
            " 50% 5/10 [01:11<01:10, 14.18s/it]\n",
            "Train 6: recon_loss=122.7716, div_loss=0.2409, nll_loss=123.0125, nll_loss_perword=5.2357, ppl=187.8659, acc=0.2059\n",
            "Test: recon_loss:126.7422, kl_loss:0.2853, nll_loss:127.0274, nll_loss_perword:5.4471, ppl:232.0879\n",
            " 60% 6/10 [01:25<00:57, 14.26s/it]\n",
            "Train 7: recon_loss=120.7310, div_loss=0.2331, nll_loss=120.9642, nll_loss_perword=5.1485, ppl=172.1811, acc=0.2145\n",
            "Test: recon_loss:125.0807, kl_loss:0.2706, nll_loss:125.3513, nll_loss_perword:5.3752, ppl:215.9918\n",
            " 70% 7/10 [01:39<00:42, 14.31s/it]\n",
            "Train 8: recon_loss=118.7205, div_loss=0.2164, nll_loss=118.9369, nll_loss_perword=5.0623, ppl=157.9473, acc=0.2242\n",
            "Test: recon_loss:123.9765, kl_loss:0.2521, nll_loss:124.2287, nll_loss_perword:5.3271, ppl:205.8404\n",
            " 80% 8/10 [01:54<00:28, 14.34s/it]\n",
            "Train 9: recon_loss=116.8682, div_loss=0.2049, nll_loss=117.0732, nll_loss_perword=4.9829, ppl=145.9020, acc=0.2331\n",
            "Test: recon_loss:122.9512, kl_loss:0.2342, nll_loss:123.1854, nll_loss_perword:5.2824, ppl:196.8343\n",
            " 90% 9/10 [02:08<00:14, 14.40s/it]\n",
            "Train 10: recon_loss=115.1907, div_loss=0.1956, nll_loss=115.3863, nll_loss_perword=4.9111, ppl=135.7936, acc=0.2408\n",
            "Test: recon_loss:122.3506, kl_loss:0.2245, nll_loss:122.5751, nll_loss_perword:5.2562, ppl:191.7499\n",
            "100% 10/10 [02:23<00:00, 14.36s/it]\n"
          ]
        }
      ]
    },
    {
      "cell_type": "code",
      "source": [
        "!python main.py -dt ptb --epoch 10 --df 1.0 --beta 1.0 #Gamma divergence"
      ],
      "metadata": {
        "colab": {
          "base_uri": "https://localhost:8080/"
        },
        "id": "pRIvF37WqHfp",
        "outputId": "97caa1b3-f7a4-479e-890c-744d09008160"
      },
      "execution_count": 54,
      "outputs": [
        {
          "output_type": "stream",
          "name": "stdout",
          "text": [
            "Namespace(alpha=1.0, batch_size=64, beta=1.0, dataset='ptb', df=1.0, dropout=0.5, embedding_size=512, epochs=10, gpu_id='0', hidden_size=256, layers=1, load=False, lr=0.0001, min_word_count=1, model_dir='', no_cuda=False, partial=False, partial_type='last75', prior_logvar=0, prior_mu=0, rnn_type='lstm', save=True, seed=999, z_type='normal', zdim=32)\n",
            "base_path= .\n",
            "start to load Corpus data\n",
            "start to build dictionary\n",
            "start to make one-hot vectors\n",
            "start to load Corpus data\n",
            "start to build dictionary\n",
            "start to make one-hot vectors\n",
            "/usr/local/lib/python3.7/dist-packages/torch/nn/modules/rnn.py:65: UserWarning: dropout option adds dropout after all but last recurrent layer, so non-zero dropout expects num_layers greater than 1, but got dropout=0.5 and num_layers=1\n",
            "  \"num_layers={}\".format(dropout, num_layers))\n",
            "Current alpha : 1.0\n",
            "Current beta : 1.0\n",
            "Current df: 1.0 -> gamma : -1.0\n",
            "  0% 0/10 [00:00<?, ?it/s]/content/drive/MyDrive/VAAE/modified-TWR_VAE/loss.py:17: UserWarning: To copy construct from a tensor, it is recommended to use sourceTensor.clone().detach() or sourceTensor.clone().detach().requires_grad_(True), rather than torch.tensor(sourceTensor).\n",
            "  self.post_mu = torch.tensor(post_mu)\n",
            "/content/drive/MyDrive/VAAE/modified-TWR_VAE/loss.py:18: UserWarning: To copy construct from a tensor, it is recommended to use sourceTensor.clone().detach() or sourceTensor.clone().detach().requires_grad_(True), rather than torch.tensor(sourceTensor).\n",
            "  self.post_logvar = torch.tensor(post_logvar)\n",
            "\n",
            "Train 1: recon_loss=147.8970, div_loss=0.0710, nll_loss=147.9681, nll_loss_perword=6.2979, ppl=543.4306, acc=0.1094\n",
            "Test: recon_loss:138.7744, kl_loss:0.0942, nll_loss:138.8686, nll_loss_perword:5.9549, ppl:385.6309\n",
            " 10% 1/10 [00:14<02:11, 14.59s/it]\n",
            "Train 2: recon_loss=136.3346, div_loss=0.0947, nll_loss=136.4293, nll_loss_perword=5.8068, ppl=332.5468, acc=0.1419\n",
            "Test: recon_loss:135.0518, kl_loss:0.1044, nll_loss:135.1561, nll_loss_perword:5.7957, ppl:328.8777\n",
            " 20% 2/10 [00:28<01:54, 14.32s/it]\n",
            "Train 3: recon_loss=132.5827, div_loss=0.0991, nll_loss=132.6817, nll_loss_perword=5.6473, ppl=283.5184, acc=0.1572\n",
            "Test: recon_loss:132.8524, kl_loss:0.1043, nll_loss:132.9567, nll_loss_perword:5.7014, ppl:299.2774\n",
            " 30% 3/10 [00:43<01:40, 14.33s/it]\n",
            "Train 4: recon_loss=130.2932, div_loss=0.1023, nll_loss=130.3955, nll_loss_perword=5.5500, ppl=257.2298, acc=0.1652\n",
            "Test: recon_loss:130.4255, kl_loss:0.1081, nll_loss:130.5335, nll_loss_perword:5.5975, ppl:269.7411\n",
            " 40% 4/10 [00:57<01:25, 14.31s/it]\n",
            "Train 5: recon_loss=127.4660, div_loss=0.1041, nll_loss=127.5701, nll_loss_perword=5.4297, ppl=228.0836, acc=0.1751\n",
            "Test: recon_loss:128.9541, kl_loss:0.1112, nll_loss:129.0653, nll_loss_perword:5.5345, ppl:253.2820\n",
            " 50% 5/10 [01:11<01:11, 14.34s/it]\n",
            "Train 6: recon_loss=125.5401, div_loss=0.1066, nll_loss=125.6468, nll_loss_perword=5.3479, ppl=210.1561, acc=0.1821\n",
            "Test: recon_loss:127.6612, kl_loss:0.1121, nll_loss:127.7733, nll_loss_perword:5.4791, ppl:239.6310\n",
            " 60% 6/10 [01:26<00:58, 14.65s/it]\n",
            "Train 7: recon_loss=123.7595, div_loss=0.1086, nll_loss=123.8682, nll_loss_perword=5.2721, ppl=194.8342, acc=0.1887\n",
            "Test: recon_loss:126.7611, kl_loss:0.1129, nll_loss:126.8741, nll_loss_perword:5.4405, ppl:230.5664\n",
            " 70% 7/10 [01:42<00:44, 14.96s/it]\n",
            "Train 8: recon_loss=122.3759, div_loss=0.1088, nll_loss=122.4847, nll_loss_perword=5.2133, ppl=183.6927, acc=0.1924\n",
            "Test: recon_loss:125.7294, kl_loss:0.1131, nll_loss:125.8425, nll_loss_perword:5.3963, ppl:220.5901\n",
            " 80% 8/10 [01:57<00:30, 15.02s/it]\n",
            "Train 9: recon_loss=121.2979, div_loss=0.1090, nll_loss=121.4069, nll_loss_perword=5.1674, ppl=175.4565, acc=0.1959\n",
            "Test: recon_loss:124.1091, kl_loss:0.1134, nll_loss:124.2225, nll_loss_perword:5.3268, ppl:205.7856\n",
            " 90% 9/10 [02:12<00:14, 14.98s/it]\n",
            "Train 10: recon_loss=119.7558, div_loss=0.1086, nll_loss=119.8644, nll_loss_perword=5.1017, ppl=164.3074, acc=0.2024\n",
            "Test: recon_loss:123.0937, kl_loss:0.1130, nll_loss:123.2067, nll_loss_perword:5.2833, ppl:197.0146\n",
            "100% 10/10 [02:28<00:00, 14.84s/it]\n"
          ]
        }
      ]
    },
    {
      "cell_type": "markdown",
      "source": [
        "# Visualization\n",
        "\n",
        "The generated folder name contains dataset name, alpha, and beta. Put your parameters below, and visualize it."
      ],
      "metadata": {
        "id": "-sg1CtJUoyy4"
      }
    },
    {
      "cell_type": "code",
      "source": [
        "dataset = 'ptb'\n",
        "alpha = 1.0\n",
        "beta = 1.0\n",
        "df = 1.0 #default"
      ],
      "metadata": {
        "id": "zTpTF676qOvZ"
      },
      "execution_count": 55,
      "outputs": []
    },
    {
      "cell_type": "code",
      "source": [
        "result = pd.read_csv(f'{dataset}_recon_save_alpha{str(alpha)}_beta{str(beta)}_df{str(df)}/test_TWRvae_loss.txt',sep='\\t')\n",
        "result.columns=['ep', 'recon_loss', 'div_loss', 'NLL', 'PPL'] \n",
        "\n",
        "result"
      ],
      "metadata": {
        "id": "3oBWVxLHxy08",
        "outputId": "2650d8de-73f0-43d6-a221-3c1d4e2aeec6",
        "colab": {
          "base_uri": "https://localhost:8080/",
          "height": 363
        }
      },
      "execution_count": 56,
      "outputs": [
        {
          "output_type": "execute_result",
          "data": {
            "text/plain": [
              "   ep  recon_loss  div_loss         NLL         PPL\n",
              "0   1  138.774359  0.094220  138.868579  385.630924\n",
              "1   2  135.051750  0.104388  135.156139  328.877736\n",
              "2   3  132.852414  0.104280  132.956694  299.277364\n",
              "3   4  130.425478  0.108066  130.533544  269.741117\n",
              "4   5  128.954090  0.111235  129.065325  253.281970\n",
              "5   6  127.661221  0.112092  127.773313  239.630962\n",
              "6   7  126.761144  0.112918  126.874063  230.566414\n",
              "7   8  125.729408  0.113138  125.842546  220.590063\n",
              "8   9  124.109120  0.113351  124.222471  205.785621\n",
              "9  10  123.093740  0.112968  123.206709  197.014559"
            ],
            "text/html": [
              "\n",
              "  <div id=\"df-b6004637-e564-4fcb-b77f-d271edb70ea1\">\n",
              "    <div class=\"colab-df-container\">\n",
              "      <div>\n",
              "<style scoped>\n",
              "    .dataframe tbody tr th:only-of-type {\n",
              "        vertical-align: middle;\n",
              "    }\n",
              "\n",
              "    .dataframe tbody tr th {\n",
              "        vertical-align: top;\n",
              "    }\n",
              "\n",
              "    .dataframe thead th {\n",
              "        text-align: right;\n",
              "    }\n",
              "</style>\n",
              "<table border=\"1\" class=\"dataframe\">\n",
              "  <thead>\n",
              "    <tr style=\"text-align: right;\">\n",
              "      <th></th>\n",
              "      <th>ep</th>\n",
              "      <th>recon_loss</th>\n",
              "      <th>div_loss</th>\n",
              "      <th>NLL</th>\n",
              "      <th>PPL</th>\n",
              "    </tr>\n",
              "  </thead>\n",
              "  <tbody>\n",
              "    <tr>\n",
              "      <th>0</th>\n",
              "      <td>1</td>\n",
              "      <td>138.774359</td>\n",
              "      <td>0.094220</td>\n",
              "      <td>138.868579</td>\n",
              "      <td>385.630924</td>\n",
              "    </tr>\n",
              "    <tr>\n",
              "      <th>1</th>\n",
              "      <td>2</td>\n",
              "      <td>135.051750</td>\n",
              "      <td>0.104388</td>\n",
              "      <td>135.156139</td>\n",
              "      <td>328.877736</td>\n",
              "    </tr>\n",
              "    <tr>\n",
              "      <th>2</th>\n",
              "      <td>3</td>\n",
              "      <td>132.852414</td>\n",
              "      <td>0.104280</td>\n",
              "      <td>132.956694</td>\n",
              "      <td>299.277364</td>\n",
              "    </tr>\n",
              "    <tr>\n",
              "      <th>3</th>\n",
              "      <td>4</td>\n",
              "      <td>130.425478</td>\n",
              "      <td>0.108066</td>\n",
              "      <td>130.533544</td>\n",
              "      <td>269.741117</td>\n",
              "    </tr>\n",
              "    <tr>\n",
              "      <th>4</th>\n",
              "      <td>5</td>\n",
              "      <td>128.954090</td>\n",
              "      <td>0.111235</td>\n",
              "      <td>129.065325</td>\n",
              "      <td>253.281970</td>\n",
              "    </tr>\n",
              "    <tr>\n",
              "      <th>5</th>\n",
              "      <td>6</td>\n",
              "      <td>127.661221</td>\n",
              "      <td>0.112092</td>\n",
              "      <td>127.773313</td>\n",
              "      <td>239.630962</td>\n",
              "    </tr>\n",
              "    <tr>\n",
              "      <th>6</th>\n",
              "      <td>7</td>\n",
              "      <td>126.761144</td>\n",
              "      <td>0.112918</td>\n",
              "      <td>126.874063</td>\n",
              "      <td>230.566414</td>\n",
              "    </tr>\n",
              "    <tr>\n",
              "      <th>7</th>\n",
              "      <td>8</td>\n",
              "      <td>125.729408</td>\n",
              "      <td>0.113138</td>\n",
              "      <td>125.842546</td>\n",
              "      <td>220.590063</td>\n",
              "    </tr>\n",
              "    <tr>\n",
              "      <th>8</th>\n",
              "      <td>9</td>\n",
              "      <td>124.109120</td>\n",
              "      <td>0.113351</td>\n",
              "      <td>124.222471</td>\n",
              "      <td>205.785621</td>\n",
              "    </tr>\n",
              "    <tr>\n",
              "      <th>9</th>\n",
              "      <td>10</td>\n",
              "      <td>123.093740</td>\n",
              "      <td>0.112968</td>\n",
              "      <td>123.206709</td>\n",
              "      <td>197.014559</td>\n",
              "    </tr>\n",
              "  </tbody>\n",
              "</table>\n",
              "</div>\n",
              "      <button class=\"colab-df-convert\" onclick=\"convertToInteractive('df-b6004637-e564-4fcb-b77f-d271edb70ea1')\"\n",
              "              title=\"Convert this dataframe to an interactive table.\"\n",
              "              style=\"display:none;\">\n",
              "        \n",
              "  <svg xmlns=\"http://www.w3.org/2000/svg\" height=\"24px\"viewBox=\"0 0 24 24\"\n",
              "       width=\"24px\">\n",
              "    <path d=\"M0 0h24v24H0V0z\" fill=\"none\"/>\n",
              "    <path d=\"M18.56 5.44l.94 2.06.94-2.06 2.06-.94-2.06-.94-.94-2.06-.94 2.06-2.06.94zm-11 1L8.5 8.5l.94-2.06 2.06-.94-2.06-.94L8.5 2.5l-.94 2.06-2.06.94zm10 10l.94 2.06.94-2.06 2.06-.94-2.06-.94-.94-2.06-.94 2.06-2.06.94z\"/><path d=\"M17.41 7.96l-1.37-1.37c-.4-.4-.92-.59-1.43-.59-.52 0-1.04.2-1.43.59L10.3 9.45l-7.72 7.72c-.78.78-.78 2.05 0 2.83L4 21.41c.39.39.9.59 1.41.59.51 0 1.02-.2 1.41-.59l7.78-7.78 2.81-2.81c.8-.78.8-2.07 0-2.86zM5.41 20L4 18.59l7.72-7.72 1.47 1.35L5.41 20z\"/>\n",
              "  </svg>\n",
              "      </button>\n",
              "      \n",
              "  <style>\n",
              "    .colab-df-container {\n",
              "      display:flex;\n",
              "      flex-wrap:wrap;\n",
              "      gap: 12px;\n",
              "    }\n",
              "\n",
              "    .colab-df-convert {\n",
              "      background-color: #E8F0FE;\n",
              "      border: none;\n",
              "      border-radius: 50%;\n",
              "      cursor: pointer;\n",
              "      display: none;\n",
              "      fill: #1967D2;\n",
              "      height: 32px;\n",
              "      padding: 0 0 0 0;\n",
              "      width: 32px;\n",
              "    }\n",
              "\n",
              "    .colab-df-convert:hover {\n",
              "      background-color: #E2EBFA;\n",
              "      box-shadow: 0px 1px 2px rgba(60, 64, 67, 0.3), 0px 1px 3px 1px rgba(60, 64, 67, 0.15);\n",
              "      fill: #174EA6;\n",
              "    }\n",
              "\n",
              "    [theme=dark] .colab-df-convert {\n",
              "      background-color: #3B4455;\n",
              "      fill: #D2E3FC;\n",
              "    }\n",
              "\n",
              "    [theme=dark] .colab-df-convert:hover {\n",
              "      background-color: #434B5C;\n",
              "      box-shadow: 0px 1px 3px 1px rgba(0, 0, 0, 0.15);\n",
              "      filter: drop-shadow(0px 1px 2px rgba(0, 0, 0, 0.3));\n",
              "      fill: #FFFFFF;\n",
              "    }\n",
              "  </style>\n",
              "\n",
              "      <script>\n",
              "        const buttonEl =\n",
              "          document.querySelector('#df-b6004637-e564-4fcb-b77f-d271edb70ea1 button.colab-df-convert');\n",
              "        buttonEl.style.display =\n",
              "          google.colab.kernel.accessAllowed ? 'block' : 'none';\n",
              "\n",
              "        async function convertToInteractive(key) {\n",
              "          const element = document.querySelector('#df-b6004637-e564-4fcb-b77f-d271edb70ea1');\n",
              "          const dataTable =\n",
              "            await google.colab.kernel.invokeFunction('convertToInteractive',\n",
              "                                                     [key], {});\n",
              "          if (!dataTable) return;\n",
              "\n",
              "          const docLinkHtml = 'Like what you see? Visit the ' +\n",
              "            '<a target=\"_blank\" href=https://colab.research.google.com/notebooks/data_table.ipynb>data table notebook</a>'\n",
              "            + ' to learn more about interactive tables.';\n",
              "          element.innerHTML = '';\n",
              "          dataTable['output_type'] = 'display_data';\n",
              "          await google.colab.output.renderOutput(dataTable, element);\n",
              "          const docLink = document.createElement('div');\n",
              "          docLink.innerHTML = docLinkHtml;\n",
              "          element.appendChild(docLink);\n",
              "        }\n",
              "      </script>\n",
              "    </div>\n",
              "  </div>\n",
              "  "
            ]
          },
          "metadata": {},
          "execution_count": 56
        }
      ]
    },
    {
      "cell_type": "code",
      "source": [
        "start_epoch = 1\n",
        "end_epoch = 50 \n",
        "plt.plot(result['PPL'].loc[start_epoch:50], label=f'alpha = {alpha}, beta = {beta}, df = {df}')\n",
        "plt.title(f'ptb_default : PPL')\n",
        "plt.xlabel('epochs')\n",
        "plt.ylabel('PPL')\n",
        "plt.legend()\n",
        "plt.show()"
      ],
      "metadata": {
        "colab": {
          "base_uri": "https://localhost:8080/",
          "height": 295
        },
        "id": "R2EtEmv_oxNb",
        "outputId": "1edaa917-962b-4afd-95d8-552954554480"
      },
      "execution_count": 58,
      "outputs": [
        {
          "output_type": "display_data",
          "data": {
            "text/plain": [
              "<Figure size 432x288 with 1 Axes>"
            ],
            "image/png": "[encoded data removed]"
          },
          "metadata": {
            "needs_background": "light"
          }
        }
      ]
    },
    {
      "cell_type": "markdown",
      "source": [
        "Also, we can see the reconstructed sentences. "
      ],
      "metadata": {
        "id": "Pr-YS9AzsVwJ"
      }
    },
    {
      "cell_type": "code",
      "source": [
        "#The reconstruction is made for every multiple of 10 epochs\n",
        "epoch = 10 \n",
        "txt_path = f'./{dataset}_recon_save_alpha{str(alpha)}_beta{str(beta)}_df{str(df)}/TWRvae_outcome_{epoch}.txt'\n"
      ],
      "metadata": {
        "id": "b1ONcMZotbQu"
      },
      "execution_count": 59,
      "outputs": []
    },
    {
      "cell_type": "code",
      "source": [
        "sen_pair = []\n",
        "origin_sen = []\n",
        "with open(txt_path, \"r\") as recon:\n",
        "    while True:\n",
        "        sen = recon.readline()\n",
        "        if not sen:\n",
        "            break\n",
        "        if sen == '\\n':\n",
        "            continue\n",
        "        elif 'origin: ' in sen:\n",
        "            sen = sen.replace(\"origin: \", \"\")\n",
        "            sen = sen.replace(\"\\n\", \"\")\n",
        "            origin_sen.append(sen)\n",
        "        elif 'reco_mu: ' in sen:\n",
        "            recon_sen = sen.replace(\"origin: \", \"\")\n",
        "            recon_sen = recon_sen.replace(\"\\n\", \"\")\n",
        "            sen_pair.append((origin_sen.pop(),recon_sen))"
      ],
      "metadata": {
        "id": "h5pRJY9-uHwO"
      },
      "execution_count": 60,
      "outputs": []
    },
    {
      "cell_type": "code",
      "source": [
        "len(sen_pair)"
      ],
      "metadata": {
        "colab": {
          "base_uri": "https://localhost:8080/"
        },
        "id": "3fZVopZKusya",
        "outputId": "3f7369ba-0b5e-40b9-c984-d70a0b4adca2"
      },
      "execution_count": 61,
      "outputs": [
        {
          "output_type": "execute_result",
          "data": {
            "text/plain": [
              "3761"
            ]
          },
          "metadata": {},
          "execution_count": 61
        }
      ]
    },
    {
      "cell_type": "markdown",
      "source": [
        "See your result tuples : (origin sen, recon sen)\n",
        "\n",
        "If you want to make result more make sense, you should spend much time to run the model. \n",
        "\n",
        "(more epochs, larger dataset like yahoo,yelp...)"
      ],
      "metadata": {
        "id": "hSTXg2ALw50C"
      }
    },
    {
      "cell_type": "code",
      "source": [
        "sen_pair[9]"
      ],
      "metadata": {
        "colab": {
          "base_uri": "https://localhost:8080/"
        },
        "id": "fX-rSf-6vA3O",
        "outputId": "b15bd37d-7581-4ec1-9199-f5ba2e4a3f1f"
      },
      "execution_count": 69,
      "outputs": [
        {
          "output_type": "execute_result",
          "data": {
            "text/plain": [
              "('<unk> plea <eos> <pad>', 'reco_mu: the <unk> <unk> <unk>')"
            ]
          },
          "metadata": {},
          "execution_count": 69
        }
      ]
    },
    {
      "cell_type": "code",
      "source": [],
      "metadata": {
        "id": "q_06nK6sw2_Z"
      },
      "execution_count": null,
      "outputs": []
    }
  ]
}
