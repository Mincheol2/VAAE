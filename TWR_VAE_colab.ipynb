{
  "nbformat": 4,
  "nbformat_minor": 0,
  "metadata": {
    "colab": {
      "provenance": [],
      "collapsed_sections": [],
      "authorship_tag": "ABX9TyOFDdTmECG/ZcIquwV7jZvm",
      "include_colab_link": true
    },
    "kernelspec": {
      "name": "python3",
      "display_name": "Python 3"
    },
    "language_info": {
      "name": "python"
    }
  },
  "cells": [
    {
      "cell_type": "markdown",
      "metadata": {
        "id": "view-in-github",
        "colab_type": "text"
      },
      "source": [
        "<a href=\"https://colab.research.google.com/github/Mincheol2/modified-TWR_VAE/blob/main/TWR_VAE_colab.ipynb\" target=\"_parent\"><img src=\"https://colab.research.google.com/assets/colab-badge.svg\" alt=\"Open In Colab\"/></a>"
      ]
    },
    {
      "cell_type": "code",
      "execution_count": 1,
      "metadata": {
        "colab": {
          "base_uri": "https://localhost:8080/"
        },
        "id": "DMtCJR8lnbrn",
        "outputId": "5d999847-bd5a-4948-e87a-fc5bef9b5c20"
      },
      "outputs": [
        {
          "output_type": "stream",
          "name": "stdout",
          "text": [
            "Mounted at /content/drive/\n"
          ]
        }
      ],
      "source": [
        "from google.colab import drive\n",
        "\n",
        "drive.mount('/content/drive/')"
      ]
    },
    {
      "cell_type": "code",
      "source": [
        "import os\n",
        "import numpy as np\n",
        "import pandas as pd\n",
        "import matplotlib.pyplot as plt\n",
        "import os\n",
        "\n",
        "## PLEASE configure your path! ##\n",
        "PATH = './drive/MyDrive/TWR_VAE' \n",
        "\n",
        "os.chdir(PATH)\n",
        "os.getcwd()"
      ],
      "metadata": {
        "colab": {
          "base_uri": "https://localhost:8080/",
          "height": 36
        },
        "id": "VKGsThyBnfmA",
        "outputId": "4569cc1a-24cf-4c6e-ab71-d93f49f20d4f"
      },
      "execution_count": 5,
      "outputs": [
        {
          "output_type": "execute_result",
          "data": {
            "text/plain": [
              "'/content/drive/MyDrive/mnist-c'"
            ],
            "application/vnd.google.colaboratory.intrinsic+json": {
              "type": "string"
            }
          },
          "metadata": {},
          "execution_count": 5
        }
      ]
    },
    {
      "cell_type": "markdown",
      "source": [
        "# Argument options\n",
        "\n",
        "- dt : Dataset(ptb / yelp / yahoo)\n",
        "\n",
        "- epoch : Learning epoch (Ex. ptb 200 epochs : about 30mins) \n",
        "\n",
        "- alpha : Alpha divergence parameter\n",
        "\n",
        "- beta : Weight for alpha divergence"
      ],
      "metadata": {
        "id": "nZHVJn9OoSj4"
      }
    },
    {
      "cell_type": "code",
      "source": [
        "!python main.py -dt ptb --epoch 200 --alpha 1.0 --beta 1.0 #Default KL Div"
      ],
      "metadata": {
        "colab": {
          "base_uri": "https://localhost:8080/"
        },
        "cellView": "code",
        "id": "gcTlsDoyoK7Z",
        "outputId": "b8f1bf94-a2d0-4b06-f5f7-33dcbfe0af7b"
      },
      "execution_count": 6,
      "outputs": [
        {
          "output_type": "stream",
          "name": "stdout",
          "text": [
            "python3: can't open file 'main.py': [Errno 2] No such file or directory\n"
          ]
        }
      ]
    },
    {
      "cell_type": "markdown",
      "source": [
        "# Visualization\n",
        "\n",
        "The generated folder name contains dataset name, alpha, and beta. Put your parameters below, and visualize it."
      ],
      "metadata": {
        "id": "-sg1CtJUoyy4"
      }
    },
    {
      "cell_type": "code",
      "source": [
        "dataset = 'ptb'\n",
        "alpha = 1.0\n",
        "beta = 1.0\n",
        "start_epoch = 1\n",
        "end_epoch = 50 "
      ],
      "metadata": {
        "id": "zTpTF676qOvZ"
      },
      "execution_count": null,
      "outputs": []
    },
    {
      "cell_type": "code",
      "source": [
        "result = pd.read_csv(f'{dataset}_recon_save_alpha' + str(alpha) '_beta' + str(beta) + '/'',sep='\\t')\n",
        "result.columns=['ep', 'recon_loss', 'div_loss', 'NLL', 'PPL'] \n",
        "\n",
        "plt.plot(result1[metrics].loc[start_epoch:50], label=f'alpha = {alpha}m beta = {beta}')\n",
        "plt.title(f'ptb_default : {metrics}')\n",
        "plt.xlabel('epochs')\n",
        "plt.ylabel(metrics)\n",
        "plt.legend()\n",
        "plt.show()"
      ],
      "metadata": {
        "id": "R2EtEmv_oxNb"
      },
      "execution_count": null,
      "outputs": []
    }
  ]
}